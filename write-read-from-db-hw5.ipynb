{
 "cells": [
  {
   "cell_type": "raw",
   "metadata": {},
   "source": [
    "Gordon's DB experiments with jupyter notebook\n",
    "===========================================\n"
   ]
  },
  {
   "cell_type": "code",
   "execution_count": 2,
   "metadata": {
    "collapsed": false
   },
   "outputs": [],
   "source": [
    "from sqlalchemy import *\n",
    "import mediacloud, datetime"
   ]
  },
  {
   "cell_type": "markdown",
   "metadata": {},
   "source": [
    "### Creating a Table\n",
    "Read more about [defining and creating tables](http://docs.sqlalchemy.org/en/rel_1_0/core/tutorial.html#define-and-create-tables)."
   ]
  },
  {
   "cell_type": "code",
   "execution_count": 3,
   "metadata": {
    "collapsed": false
   },
   "outputs": [],
   "source": [
    "# add `echo=True` to see log statements of all the SQL that is generated\n",
    "echo=True\n",
    "engine = create_engine('sqlite:///:memory:') # just save the db in memory for now (ie. not on disk)\n",
    "metadata = MetaData()\n",
    "# define a table to use\n",
    "queries = Table('queries', metadata,\n",
    "    Column('id', Integer, primary_key=True),\n",
    "    Column('keywords', String(400), nullable=False),\n",
    "    Column('timestamp', DateTime, default=datetime.datetime.now),\n",
    "    Column('sentencecount', Integer),\n",
    ")\n",
    "metadata.create_all(engine) # and create the tables in the database"
   ]
  },
  {
   "cell_type": "markdown",
   "metadata": {},
   "source": [
    "### Insert Data\n",
    "Read more about generating [SQL insert statements](http://docs.sqlalchemy.org/en/rel_1_0/core/tutorial.html#insert-expressions)."
   ]
  },
  {
   "cell_type": "code",
   "execution_count": 4,
   "metadata": {
    "collapsed": false
   },
   "outputs": [
    {
     "data": {
      "text/plain": [
       "'INSERT INTO queries (id, keywords, timestamp, sentencecount) VALUES (:id, :keywords, :timestamp, :sentencecount)'"
      ]
     },
     "execution_count": 4,
     "metadata": {},
     "output_type": "execute_result"
    }
   ],
   "source": [
    "insert_stmt = queries.insert()\n",
    "str(insert_stmt) # see an example of what this will do"
   ]
  },
  {
   "cell_type": "code",
   "execution_count": 5,
   "metadata": {
    "collapsed": false
   },
   "outputs": [
    {
     "data": {
      "text/plain": [
       "'INSERT INTO queries (keywords, timestamp) VALUES (:keywords, :timestamp)'"
      ]
     },
     "execution_count": 5,
     "metadata": {},
     "output_type": "execute_result"
    }
   ],
   "source": [
    "insert_stmt = queries.insert().values(keywords=\"puppies\")\n",
    "str(insert_stmt) # see an example with a value in the keywords field"
   ]
  },
  {
   "cell_type": "code",
   "execution_count": 6,
   "metadata": {
    "collapsed": false
   },
   "outputs": [
    {
     "name": "stdout",
     "output_type": "stream",
     "text": [
      "590608\n"
     ]
    }
   ],
   "source": [
    "query = \"black lives matter\"\n",
    "mc = mediacloud.api.MediaCloud('136e9fa634cc38b17a3e51b9095c2b3ee1e5045de77ece72f3de4e58df810543')\n",
    "res = mc.sentenceCount(query, solr_filter=[mc.publish_date_query( datetime.date( 2015, 1, 1), datetime.date( 2015, 11, 12) ), 'media_sets_id:1' ])\n",
    "print res['count'] # prints the number of sentences found\n",
    "count = res['count']\n",
    "insert_stmt = queries.insert().values(keywords=query, sentencecount=count) # prep the insert statement for the next step"
   ]
  },
  {
   "cell_type": "code",
   "execution_count": 7,
   "metadata": {
    "collapsed": false
   },
   "outputs": [
    {
     "data": {
      "text/plain": [
       "[1]"
      ]
     },
     "execution_count": 7,
     "metadata": {},
     "output_type": "execute_result"
    }
   ],
   "source": [
    "db_conn = engine.connect()\n",
    "result = db_conn.execute(insert_stmt) # execute the insert command for the above stmt\n",
    "result.inserted_primary_key # print out the primary key it was assigned"
   ]
  },
  {
   "cell_type": "code",
   "execution_count": 8,
   "metadata": {
    "collapsed": false
   },
   "outputs": [
    {
     "name": "stdout",
     "output_type": "stream",
     "text": [
      "1878614\n"
     ]
    }
   ],
   "source": [
    "query = \"all lives matter\"\n",
    "res = mc.sentenceCount(query, solr_filter=[mc.publish_date_query( datetime.date( 2015, 1, 1), datetime.date( 2015, 11, 12) ), 'media_sets_id:1' ])\n",
    "print res['count'] # prints the number of sentences found\n",
    "count = res['count']\n",
    "insert_stmt = queries.insert().values(keywords=query, sentencecount=count) # prep the second query"
   ]
  },
  {
   "cell_type": "code",
   "execution_count": 9,
   "metadata": {
    "collapsed": false
   },
   "outputs": [
    {
     "data": {
      "text/plain": [
       "[2]"
      ]
     },
     "execution_count": 9,
     "metadata": {},
     "output_type": "execute_result"
    }
   ],
   "source": [
    "db_conn = engine.connect()\n",
    "result = db_conn.execute(insert_stmt) # execute the insert\n",
    "result.inserted_primary_key # print out the primary key it was assigned"
   ]
  },
  {
   "cell_type": "markdown",
   "metadata": {},
   "source": [
    "### Count the sentences across the 2 queries\n",
    "Read more about using [SQL select statments](http://docs.sqlalchemy.org/en/rel_1_0/core/tutorial.html#selecting)."
   ]
  },
  {
   "cell_type": "code",
   "execution_count": 10,
   "metadata": {
    "collapsed": false
   },
   "outputs": [
    {
     "name": "stdout",
     "output_type": "stream",
     "text": [
      "(1, u'black lives matter', datetime.datetime(2015, 12, 2, 21, 54, 27, 143552), 590608)\n",
      "(2, u'all lives matter', datetime.datetime(2015, 12, 2, 21, 55, 1, 274882), 1878614)\n"
     ]
    }
   ],
   "source": [
    "from sqlalchemy.sql import select\n",
    "select_stmt = select([queries])\n",
    "results = db_conn.execute(select_stmt)\n",
    "for row in results:\n",
    "    print row # just make sure they are there and confirm what they look like"
   ]
  },
  {
   "cell_type": "code",
   "execution_count": 11,
   "metadata": {
    "collapsed": false
   },
   "outputs": [
    {
     "name": "stdout",
     "output_type": "stream",
     "text": [
      "590608\n",
      "1878614\n",
      "total sentences returned by all queries is 2469222\n"
     ]
    }
   ],
   "source": [
    "select_stmt = select([queries]).where(queries.c.sentencecount)\n",
    "sum = 0\n",
    "for row in db_conn.execute(select_stmt):\n",
    "    print row.sentencecount\n",
    "    sum = sum + row.sentencecount\n",
    "print \"total sentences returned by all queries is %i\" %sum"
   ]
  }
 ],
 "metadata": {
  "kernelspec": {
   "display_name": "Python 2",
   "language": "python",
   "name": "python2"
  },
  "language_info": {
   "codemirror_mode": {
    "name": "ipython",
    "version": 2
   },
   "file_extension": ".py",
   "mimetype": "text/x-python",
   "name": "python",
   "nbconvert_exporter": "python",
   "pygments_lexer": "ipython2",
   "version": "2.7.10"
  }
 },
 "nbformat": 4,
 "nbformat_minor": 0
}
